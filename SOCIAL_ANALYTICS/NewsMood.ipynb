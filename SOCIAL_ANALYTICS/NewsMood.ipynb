{
 "cells": [
  {
   "cell_type": "code",
   "execution_count": null,
   "metadata": {},
   "outputs": [],
   "source": [
    "# ADD 3 OBSERVABLE TRENDS: 2018-03-23 21:48\n",
    "# CNN is the media with worst value on sentiment analysis. Most of tweets are about school shootting in schools.\n",
    "# CBS is the media with best value on sentiment analysis. Most of tweets are about sports, shows and movies.\n",
    "# FOX and The New York times have many tweets that cannot be determined as positive or negative."
   ]
  },
  {
   "cell_type": "markdown",
   "metadata": {},
   "source": [
    "# Dependencies\n",
    "import tweepy\n",
    "import json\n",
    "import numpy as np\n",
    "import pprint\n",
    "import pandas as pd\n",
    "import time\n",
    "import matplotlib.pyplot as plt\n",
    "import seaborn as sns\n",
    "\n",
    "#Libray for sentiment analysis\n",
    "from config import consumer_key,consumer_secret,access_token,access_token_secret\n",
    "from vaderSentiment.vaderSentiment import SentimentIntensityAnalyzer\n",
    "analyzer = SentimentIntensityAnalyzer()"
   ]
  },
  {
   "cell_type": "code",
   "execution_count": 17,
   "metadata": {},
   "outputs": [],
   "source": [
    "# Setup Tweepy API Authentication\n",
    "auth = tweepy.OAuthHandler(consumer_key, consumer_secret)\n",
    "auth.set_access_token(access_token, access_token_secret)\n",
    "api = tweepy.API(auth, parser=tweepy.parsers.JSONParser())"
   ]
  },
  {
   "cell_type": "code",
   "execution_count": 18,
   "metadata": {},
   "outputs": [],
   "source": [
    "tweet_ls=[]\n",
    "compound_ls=[]\n",
    "positive_ls=[]\n",
    "negative_ls=[]\n",
    "neutral_ls=[]\n",
    "\n",
    "# Target User\n",
    "target_user = [\"@BBC\",\"@CBS\",\"@CNN\",\"@FOXTV\",\"@nytimes\"]\n",
    "\n",
    "\n",
    "for user in target_user: \n",
    "\n",
    "    counter =1\n",
    "    \n",
    "    # Pagination (to get 100 tweets) \n",
    "    for x in range(5):\n",
    "\n",
    "        # Get all tweets from home feed\n",
    "        public_tweets = api.user_timeline(user)\n",
    "\n",
    "           # Loop through all tweets\n",
    "        for tweet in public_tweets:\n",
    "            \n",
    "             # Run Vader Analysis on each tweet\n",
    "            compound = analyzer.polarity_scores(tweet[\"text\"])[\"compound\"]\n",
    "            pos = analyzer.polarity_scores(tweet[\"text\"])[\"pos\"]\n",
    "            neu = analyzer.polarity_scores(tweet[\"text\"])[\"neu\"]\n",
    "            neg = analyzer.polarity_scores(tweet[\"text\"])[\"neg\"]\n",
    "            tweets_ago = counter\n",
    "\n",
    "            # Add sentiments for each tweet into an array\n",
    "            tweet_ls.append({\"Target\": tweet[\"user\"][\"name\"], \n",
    "                            \"Tweet\":tweet[\"text\"],\n",
    "                            \"Date\":tweet[\"created_at\"],\n",
    "                            \"Compound\": compound,\n",
    "                            \"Positive\": pos,\n",
    "                            \"Negative\": neu,\n",
    "                            \"Neutral\": neg,\n",
    "                            \"Tweets Ago\": counter})\n",
    "\n",
    "            # Add to counter \n",
    "            counter = counter + 1\n"
   ]
  },
  {
   "cell_type": "code",
   "execution_count": 19,
   "metadata": {},
   "outputs": [
    {
     "data": {
      "text/html": [
       "<div>\n",
       "<style>\n",
       "    .dataframe thead tr:only-child th {\n",
       "        text-align: right;\n",
       "    }\n",
       "\n",
       "    .dataframe thead th {\n",
       "        text-align: left;\n",
       "    }\n",
       "\n",
       "    .dataframe tbody tr th {\n",
       "        vertical-align: top;\n",
       "    }\n",
       "</style>\n",
       "<table border=\"1\" class=\"dataframe\">\n",
       "  <thead>\n",
       "    <tr style=\"text-align: right;\">\n",
       "      <th></th>\n",
       "      <th>Compound</th>\n",
       "      <th>Date</th>\n",
       "      <th>Negative</th>\n",
       "      <th>Neutral</th>\n",
       "      <th>Positive</th>\n",
       "      <th>Target</th>\n",
       "      <th>Tweet</th>\n",
       "      <th>Tweets Ago</th>\n",
       "    </tr>\n",
       "  </thead>\n",
       "  <tbody>\n",
       "    <tr>\n",
       "      <th>0</th>\n",
       "      <td>0.000</td>\n",
       "      <td>Fri Mar 23 19:07:00 +0000 2018</td>\n",
       "      <td>1.000</td>\n",
       "      <td>0.000</td>\n",
       "      <td>0.0</td>\n",
       "      <td>BBC</td>\n",
       "      <td>RT @BBCOne: .@GaryLineker, @OreOduba, @ThisisD...</td>\n",
       "      <td>1</td>\n",
       "    </tr>\n",
       "    <tr>\n",
       "      <th>1</th>\n",
       "      <td>-0.296</td>\n",
       "      <td>Fri Mar 23 18:03:04 +0000 2018</td>\n",
       "      <td>0.864</td>\n",
       "      <td>0.136</td>\n",
       "      <td>0.0</td>\n",
       "      <td>BBC</td>\n",
       "      <td>From @taylorswift13 to @Beyonce: these are the...</td>\n",
       "      <td>2</td>\n",
       "    </tr>\n",
       "    <tr>\n",
       "      <th>2</th>\n",
       "      <td>0.000</td>\n",
       "      <td>Fri Mar 23 17:33:03 +0000 2018</td>\n",
       "      <td>1.000</td>\n",
       "      <td>0.000</td>\n",
       "      <td>0.0</td>\n",
       "      <td>BBC</td>\n",
       "      <td>Tonight, @GaryLineker, @ThisisDavina and @OreO...</td>\n",
       "      <td>3</td>\n",
       "    </tr>\n",
       "    <tr>\n",
       "      <th>3</th>\n",
       "      <td>0.000</td>\n",
       "      <td>Fri Mar 23 17:02:01 +0000 2018</td>\n",
       "      <td>1.000</td>\n",
       "      <td>0.000</td>\n",
       "      <td>0.0</td>\n",
       "      <td>BBC</td>\n",
       "      <td>Your week, as told by @louistheroux. 📆😂\\nhttps...</td>\n",
       "      <td>4</td>\n",
       "    </tr>\n",
       "    <tr>\n",
       "      <th>4</th>\n",
       "      <td>0.000</td>\n",
       "      <td>Fri Mar 23 16:27:45 +0000 2018</td>\n",
       "      <td>1.000</td>\n",
       "      <td>0.000</td>\n",
       "      <td>0.0</td>\n",
       "      <td>BBC</td>\n",
       "      <td>RT @BBCWales: A #DanceForParkinsons session wi...</td>\n",
       "      <td>5</td>\n",
       "    </tr>\n",
       "  </tbody>\n",
       "</table>\n",
       "</div>"
      ],
      "text/plain": [
       "   Compound                            Date  Negative  Neutral  Positive  \\\n",
       "0     0.000  Fri Mar 23 19:07:00 +0000 2018     1.000    0.000       0.0   \n",
       "1    -0.296  Fri Mar 23 18:03:04 +0000 2018     0.864    0.136       0.0   \n",
       "2     0.000  Fri Mar 23 17:33:03 +0000 2018     1.000    0.000       0.0   \n",
       "3     0.000  Fri Mar 23 17:02:01 +0000 2018     1.000    0.000       0.0   \n",
       "4     0.000  Fri Mar 23 16:27:45 +0000 2018     1.000    0.000       0.0   \n",
       "\n",
       "  Target                                              Tweet  Tweets Ago  \n",
       "0    BBC  RT @BBCOne: .@GaryLineker, @OreOduba, @ThisisD...           1  \n",
       "1    BBC  From @taylorswift13 to @Beyonce: these are the...           2  \n",
       "2    BBC  Tonight, @GaryLineker, @ThisisDavina and @OreO...           3  \n",
       "3    BBC  Your week, as told by @louistheroux. 📆😂\\nhttps...           4  \n",
       "4    BBC  RT @BBCWales: A #DanceForParkinsons session wi...           5  "
      ]
     },
     "execution_count": 19,
     "metadata": {},
     "output_type": "execute_result"
    }
   ],
   "source": [
    "# Convert sentiments to DataFrame\n",
    "tweet_df = pd.DataFrame.from_dict(tweet_ls)\n",
    "\n",
    "tweet_df.sort_values(by='Date', ascending=False)\n",
    "\n",
    "tweet_df.head()"
   ]
  },
  {
   "cell_type": "code",
   "execution_count": 20,
   "metadata": {},
   "outputs": [],
   "source": [
    " # Save the DataFrame as a csv\n",
    "tweet_df.to_csv(\"output/Sentiment_Analysis_Media_Data.csv\",\n",
    "                     encoding=\"utf-8\", index=False)"
   ]
  },
  {
   "cell_type": "code",
   "execution_count": 21,
   "metadata": {},
   "outputs": [
    {
     "data": {
      "image/png": "[encoded data removed]",
      "text/plain": [
       "<matplotlib.figure.Figure at 0x26952b16be0>"
      ]
     },
     "metadata": {},
     "output_type": "display_data"
    },
    {
     "data": {
      "text/plain": [
       "<matplotlib.figure.Figure at 0x26952955470>"
      ]
     },
     "metadata": {},
     "output_type": "display_data"
    }
   ],
   "source": [
    "#Scatter plot\n",
    "import datetime\n",
    "now = datetime.datetime.now()\n",
    "now=now.strftime(\"%Y-%m-%d %H:%M\")\n",
    "\n",
    "g=sns.lmplot('Tweets Ago', 'Compound', data=tweet_df, hue='Target', fit_reg=False, size=8,legend=True)\n",
    "\n",
    "# title\n",
    "g._legend.set_title('')\n",
    "\n",
    "plt.xlabel(\"Tweets Ago\")\n",
    "plt.ylabel(\"Tweet Polarity\")\n",
    "plt.title(f\"Sentiment Analysis of media tweets: {now}\")\n",
    "\n",
    "sns.set_style(\"darkgrid\")\n",
    "\n",
    "plt.xlim([0-5, 100+5])\n",
    "plt.ylim([-1.00, 1.00])\n",
    "\n",
    "\n",
    "# Show plot\n",
    "plt.show()\n",
    "\n",
    "# Save the figure\n",
    "plt.savefig(\"output/SentimentAnalysis_Scatter.png\")"
   ]
  },
  {
   "cell_type": "code",
   "execution_count": 22,
   "metadata": {},
   "outputs": [
    {
     "data": {
      "text/html": [
       "<div>\n",
       "<style>\n",
       "    .dataframe thead tr:only-child th {\n",
       "        text-align: right;\n",
       "    }\n",
       "\n",
       "    .dataframe thead th {\n",
       "        text-align: left;\n",
       "    }\n",
       "\n",
       "    .dataframe tbody tr th {\n",
       "        vertical-align: top;\n",
       "    }\n",
       "</style>\n",
       "<table border=\"1\" class=\"dataframe\">\n",
       "  <thead>\n",
       "    <tr style=\"text-align: right;\">\n",
       "      <th></th>\n",
       "      <th>Target</th>\n",
       "      <th>Tweet Polarity</th>\n",
       "    </tr>\n",
       "  </thead>\n",
       "  <tbody>\n",
       "    <tr>\n",
       "      <th>0</th>\n",
       "      <td>BBC</td>\n",
       "      <td>0.135335</td>\n",
       "    </tr>\n",
       "    <tr>\n",
       "      <th>1</th>\n",
       "      <td>CBS</td>\n",
       "      <td>0.387445</td>\n",
       "    </tr>\n",
       "    <tr>\n",
       "      <th>2</th>\n",
       "      <td>CNN</td>\n",
       "      <td>-0.121020</td>\n",
       "    </tr>\n",
       "    <tr>\n",
       "      <th>3</th>\n",
       "      <td>FOX</td>\n",
       "      <td>0.223150</td>\n",
       "    </tr>\n",
       "    <tr>\n",
       "      <th>4</th>\n",
       "      <td>The New York Times</td>\n",
       "      <td>0.055650</td>\n",
       "    </tr>\n",
       "  </tbody>\n",
       "</table>\n",
       "</div>"
      ],
      "text/plain": [
       "               Target  Tweet Polarity\n",
       "0                 BBC        0.135335\n",
       "1                 CBS        0.387445\n",
       "2                 CNN       -0.121020\n",
       "3                 FOX        0.223150\n",
       "4  The New York Times        0.055650"
      ]
     },
     "execution_count": 22,
     "metadata": {},
     "output_type": "execute_result"
    }
   ],
   "source": [
    "#Group by Target, aggregation average by Compound \n",
    "tweet_group_df = tweet_df.groupby([\"Target\"])['Compound'].agg(['mean']).sort_index().reset_index()\n",
    "tweet_group_df = tweet_group_df.rename(columns={\"mean\":\"Tweet Polarity\"})\n",
    "tweet_group_df.head()"
   ]
  },
  {
   "cell_type": "code",
   "execution_count": 23,
   "metadata": {},
   "outputs": [
    {
     "data": {
      "image/png": "[encoded data removed]",
      "text/plain": [
       "<matplotlib.figure.Figure at 0x269529dbb38>"
      ]
     },
     "metadata": {},
     "output_type": "display_data"
    },
    {
     "data": {
      "text/plain": [
       "<matplotlib.figure.Figure at 0x26952a32e48>"
      ]
     },
     "metadata": {},
     "output_type": "display_data"
    }
   ],
   "source": [
    "#Bar plot average values by media\n",
    "\n",
    "sns.set_style(\"whitegrid\")\n",
    "ax = sns.barplot(x=\"Target\", y=\"Tweet Polarity\", data=tweet_group_df)\n",
    "\n",
    "\n",
    "def autolabel(rects, labels=None, height_factor=1.05):\n",
    "    for i, rect in enumerate(rects):\n",
    "        height = rect.get_height()\n",
    "        if labels is not None:\n",
    "            try:\n",
    "                label = labels[i]\n",
    "            except (TypeError, KeyError):\n",
    "                label = ' '\n",
    "        else:\n",
    "            label = '%d' % int(height)\n",
    "        ax.text(rect.get_x() + rect.get_width()/2., height_factor*height,\n",
    "                '{}'.format(label),\n",
    "                ha='center', va='bottom')\n",
    "\n",
    "autolabel(ax.patches, labels=round(tweet_group_df[\"Tweet Polarity\"],2), height_factor=1.02)\n",
    "plt.ylim([-0.25, 0.50])\n",
    "\n",
    "plt.xlabel(\"\")\n",
    "plt.ylabel(\"Tweet Polarity\")\n",
    "plt.title(f\"Overall Media Sentiment based on Twitter: {now}\")\n",
    "\n",
    "plt.show()\n",
    "\n",
    "# Save the figure\n",
    "plt.savefig(\"output/OverallMediaSentiment_Bar.png\")"
   ]
  },
  {
   "cell_type": "code",
   "execution_count": null,
   "metadata": {},
   "outputs": [],
   "source": []
  }
 ],
 "metadata": {
  "kernelspec": {
   "display_name": "Python 3",
   "language": "python",
   "name": "python3"
  },
  "language_info": {
   "codemirror_mode": {
    "name": "ipython",
    "version": 3
   },
   "file_extension": ".py",
   "mimetype": "text/x-python",
   "name": "python",
   "nbconvert_exporter": "python",
   "pygments_lexer": "ipython3",
   "version": "3.6.3"
  }
 },
 "nbformat": 4,
 "nbformat_minor": 2
}
